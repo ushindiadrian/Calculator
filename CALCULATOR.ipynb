{
 "cells": [
  {
   "cell_type": "markdown",
   "metadata": {},
   "source": [
    "## 1.Simple calculator"
   ]
  },
  {
   "cell_type": "markdown",
   "metadata": {},
   "source": [
    "Concepts Applied:Basic syntax ,variables,datatypes ,operators,control flow, and functions"
   ]
  },
  {
   "cell_type": "code",
   "execution_count": 12,
   "metadata": {},
   "outputs": [
    {
     "name": "stdout",
     "output_type": "stream",
     "text": [
      "Simple Calculator\n",
      "Enter first number: 45\n",
      "Enter second number: 54\n",
      "Choose operation:\n",
      "1.Add\n",
      "2.Subtract\n",
      "3.Multiply\n",
      "4.Divide\n",
      "Enter choice(1/2/3/4):45\n",
      "Invalid input\n"
     ]
    }
   ],
   "source": [
    "#Adding\n",
    "def add(a,b):\n",
    "    \"\"\"This function takes in two arguments/parameters a and b\n",
    "    a is an integer\n",
    "    b is an integer\n",
    "    result is an integer\n",
    "    then it adds a number\"\"\"\n",
    "    a=int(a)\n",
    "    b=int(b)\n",
    "    result=(a + b)\n",
    "    return result\n",
    "    add(12.5,13)\n",
    "\n",
    "#Multiply\n",
    "def multiply(a,b):\n",
    "    \"\"\"This function takes in two arguments/parameters a and b\n",
    "    a is an integer\n",
    "    b is an integer\n",
    "    result is an integer\n",
    "    then it multiplies a number\"\"\"\n",
    "    a=int(a)\n",
    "    b=int(b)\n",
    "    result=(a*b)\n",
    "    return result\n",
    "    multiply(12.5,13)\n",
    "    \n",
    "#Substraction\n",
    "def substraction(a,b):\n",
    "    \"\"\"This function takes in two arguments/parameters a and b\n",
    "    a is an integer\n",
    "    b is an integer\n",
    "    result  is an  integer\n",
    "    then it substracts a number\"\"\"\n",
    "    a=int(a)\n",
    "    b=int(b)\n",
    "    result=(a-b)\n",
    "    return result\n",
    "    substract(12.5,13)\n",
    "    \n",
    "#Division\n",
    "def divide(a,b):\n",
    "    \"\"\"This function takes in two arguments/parameters a and b\n",
    "    a is an integer\n",
    "    b is an integer\n",
    "    result is  an integer\n",
    "    then it divides  a number\"\"\"\n",
    "    a=int(a)\n",
    "    b=int(b)\n",
    "    result=(a/b)\n",
    "    return result\n",
    "    divide(12.5,13)\n",
    "    \n",
    "def calculator():\n",
    "    print(\"Simple Calculator\")\n",
    "    num1 = float(input(\"Enter first number: \"))\n",
    "    num2 = float(input(\"Enter second number: \"))\n",
    "    \n",
    "    \n",
    "    print(\"Choose operation:\")\n",
    "    print(\"1.Add\")\n",
    "    print(\"2.Subtract\")\n",
    "    print(\"3.Multiply\")\n",
    "    print(\"4.Divide\")\n",
    "    \n",
    "    \n",
    "    choice = input(\"Enter choice(1/2/3/4):\")\n",
    "    \n",
    "    if choice=='1':\n",
    "        print(add(num1,num2))\n",
    "    elif choice =='2'  :\n",
    "        print(substract(num1,num2))\n",
    "    elif choice == '3' :\n",
    "        print(multiply(num1,num2))\n",
    "    elif choice == '4' :\n",
    "        print(divide(num1,num2))\n",
    "    else:\n",
    "        print(\"Invalid input\")\n",
    "calculator()\n",
    "  "
   ]
  },
  {
   "cell_type": "code",
   "execution_count": null,
   "metadata": {},
   "outputs": [],
   "source": [
    "import random\n",
    "\n",
    "\n",
    "def guess_the_number():\n",
    "    target_number =random.randint(1,100)\n",
    "    guess = None\n",
    "    attempts = 0 \n",
    "    \n",
    "    print(\"Welcome to Guess the number game!\")\n",
    "    print(\"Try to guess the number between 1 and 100\")\n",
    "    \n",
    "    \n",
    "    while guess !=target_number:\n",
    "        user_input = input(\"Enter your guess(or 'exit' to end the game):\")\n",
    "        \n",
    "        \n",
    "        if user_input.lower()=='exit':\n",
    "            print(f\"The number was {target_number}.Exiting the game.Goodbye!\")\n",
    "            break\n",
    "            \n",
    "            \n",
    "        try:\n",
    "            guess =int(user_input)\n",
    "            attempts += 1\n",
    "            \n",
    "            \n",
    "            if guess < target_number :\n",
    "                print(\"Too low! try again\")\n",
    "            elif guess > target_number:\n",
    "                print(\"Too high! try again\")\n",
    "           \n",
    "            else:\n",
    "                print(f\"Congratulations! You guessed the number{target_number} in {attempts} attempts\")\n",
    "        except ValueError:\n",
    "                    \n",
    "                print(\"Invalid input.please enter a number or 'exit'\")\n",
    "                \n",
    "if __name__==\"_main_\":\n",
    "    guess_the_number()"
   ]
  },
  {
   "cell_type": "code",
   "execution_count": 7,
   "metadata": {},
   "outputs": [
    {
     "ename": "SyntaxError",
     "evalue": "invalid syntax (<ipython-input-7-dc96052f6dab>, line 14)",
     "output_type": "error",
     "traceback": [
      "\u001b[0;36m  File \u001b[0;32m\"<ipython-input-7-dc96052f6dab>\"\u001b[0;36m, line \u001b[0;32m14\u001b[0m\n\u001b[0;31m    else:\u001b[0m\n\u001b[0m       ^\u001b[0m\n\u001b[0;31mSyntaxError\u001b[0m\u001b[0;31m:\u001b[0m invalid syntax\n"
     ]
    }
   ],
   "source": [
    "def todo__list():\n",
    "    tasks = []\n",
    "    \n",
    "    \n",
    "def add_task(task):\n",
    "    tasks.append(task)\n",
    "    print(f\"Task'{task}' added.\")\n",
    "    \n",
    "    \n",
    "def complete_task(task):\n",
    "    if task in tasks:\n",
    "        tasks.remove(task)\n",
    "        print(f\"Task'{task}' marked as compleated.\")\n",
    "        else:\n",
    "            print(f\"Task '{task}' not found\")\n",
    "def view_tasks():\n",
    "    if tasks:\n",
    "        \n",
    "        print(\"Your To-Do list:\")\n",
    "        for task in tasks :\n",
    "            print (f\"-{task}\")\n",
    "        else:\n",
    "            print(\"Your to-do list is empty.\")\n",
    "            "
   ]
  },
  {
   "cell_type": "code",
   "execution_count": null,
   "metadata": {},
   "outputs": [],
   "source": []
  },
  {
   "cell_type": "code",
   "execution_count": null,
   "metadata": {},
   "outputs": [],
   "source": []
  }
 ],
 "metadata": {
  "kernelspec": {
   "display_name": "Python 3",
   "language": "python",
   "name": "python3"
  },
  "language_info": {
   "codemirror_mode": {
    "name": "ipython",
    "version": 3
   },
   "file_extension": ".py",
   "mimetype": "text/x-python",
   "name": "python",
   "nbconvert_exporter": "python",
   "pygments_lexer": "ipython3",
   "version": "3.6.8"
  }
 },
 "nbformat": 4,
 "nbformat_minor": 2
}
